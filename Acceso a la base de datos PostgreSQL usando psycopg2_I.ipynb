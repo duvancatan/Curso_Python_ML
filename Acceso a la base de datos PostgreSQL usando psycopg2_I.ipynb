{
 "cells": [
  {
   "cell_type": "code",
   "execution_count": 1,
   "metadata": {},
   "outputs": [],
   "source": [
    "#PG4Admin\n",
    "import psycopg2"
   ]
  },
  {
   "cell_type": "code",
   "execution_count": 2,
   "metadata": {},
   "outputs": [],
   "source": [
    "conexion = psycopg2.connect(host=\"localhost\", database=\"suppliers\", user=\"postgres\", password=\"0715\")"
   ]
  },
  {
   "cell_type": "code",
   "execution_count": 3,
   "metadata": {},
   "outputs": [],
   "source": [
    "# Create a cursor. The cursor allows you to execute database queries. \n",
    "curs = conexion.cursor()"
   ]
  },
  {
   "cell_type": "code",
   "execution_count": 4,
   "metadata": {},
   "outputs": [],
   "source": [
    "# Create a table. Initialise the table name, the column names and data type. \n",
    "curs.execute(\"\"\"CREATE TABLE fruti (\n",
    "                    id          INT ,\n",
    "                    fruit_name  TEXT,\n",
    "                    color       TEXT,\n",
    "                    price       REAL\n",
    "            )\"\"\")\n",
    "conexion.commit()\n",
    "# conexion.close()"
   ]
  },
  {
   "cell_type": "code",
   "execution_count": 5,
   "metadata": {},
   "outputs": [],
   "source": [
    "# After creating the table as shown above, insert values into it.\n",
    "curs.execute(\"\"\"INSERT INTO fruti (id, fruit_name, color, price)\n",
    "               VALUES (1, 'Apples', 'green', 1.00)\"\"\")\n",
    "\n",
    "curs.execute(\"\"\"INSERT INTO fruti (id, fruit_name, color, price)\n",
    "               VALUES (1, 'Bananas', 'yellow', 0.80)\"\"\")"
   ]
  },
  {
   "cell_type": "code",
   "execution_count": 6,
   "metadata": {},
   "outputs": [],
   "source": [
    "# Set up a query and execute it \n",
    "curs.execute(\"\"\"SELECT id, fruit_name, color, price \n",
    "             FROM fruti\"\"\")"
   ]
  },
  {
   "cell_type": "code",
   "execution_count": 8,
   "metadata": {},
   "outputs": [],
   "source": [
    "# Fetch the data \n",
    "rows = curs.fetchall()"
   ]
  },
  {
   "cell_type": "code",
   "execution_count": 10,
   "metadata": {},
   "outputs": [
    {
     "data": {
      "text/plain": [
       "[(1, 'Apples', 'green', 1.0), (1, 'Bananas', 'yellow', 0.8)]"
      ]
     },
     "execution_count": 10,
     "metadata": {},
     "output_type": "execute_result"
    }
   ],
   "source": [
    "rows"
   ]
  },
  {
   "cell_type": "code",
   "execution_count": null,
   "metadata": {},
   "outputs": [],
   "source": []
  }
 ],
 "metadata": {
  "kernelspec": {
   "display_name": "Python 3",
   "language": "python",
   "name": "python3"
  },
  "language_info": {
   "codemirror_mode": {
    "name": "ipython",
    "version": 3
   },
   "file_extension": ".py",
   "mimetype": "text/x-python",
   "name": "python",
   "nbconvert_exporter": "python",
   "pygments_lexer": "ipython3",
   "version": "3.7.1"
  }
 },
 "nbformat": 4,
 "nbformat_minor": 2
}
