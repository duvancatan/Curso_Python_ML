{
 "cells": [
  {
   "cell_type": "markdown",
   "metadata": {},
   "source": [
    "<img src=\"https://luminousmen.com/media/introduction-to-pyspark-join-types.jpg\"  />"
   ]
  },
  {
   "cell_type": "code",
   "execution_count": 1,
   "metadata": {},
   "outputs": [],
   "source": [
    "''' Vamos a usarlo con esta función y vamos a tener que especificar un 'Master', \n",
    "aquí vamos a poner 'local', ya que como no estamos gestionando nada desde un \"cluster\" \n",
    "estamos actuando en local, y vamos a darle un nombre, puede ser cualquiera –'Mi programa\n",
    "'''\n",
    "from pyspark import SparkConf, SparkContext\n",
    "conf= SparkConf().setMaster(\"local\").setAppName(\"Mi programa\")\n",
    "sc =SparkContext(conf=conf)"
   ]
  },
  {
   "cell_type": "markdown",
   "metadata": {},
   "source": [
    "El método parallelize () es el método paralelizado de SparkContext **(dividir los datos en archivos más pequeños. Estos archivos más pequeños son enviados cada uno a una máquina diferente.)**  para crear una colección paralelizada. Esto permite que Spark **distribuya los datos a través de múltiples nodos**, en lugar de depender de un solo nodo para procesar los datos."
   ]
  },
  {
   "cell_type": "code",
   "execution_count": 2,
   "metadata": {},
   "outputs": [],
   "source": [
    "x= sc.parallelize([(\"a\",5),(\"b\",6),(\"c\",7),(\"d\",8)])\n",
    "y= sc.parallelize([(\"a\",1),(\"a\",2),(\"c\",3)])"
   ]
  },
  {
   "cell_type": "code",
   "execution_count": 3,
   "metadata": {},
   "outputs": [
    {
     "data": {
      "text/plain": [
       "[('c', (7, 3)), ('a', (5, 1)), ('a', (5, 2))]"
      ]
     },
     "execution_count": 3,
     "metadata": {},
     "output_type": "execute_result"
    }
   ],
   "source": [
    "x.join(y).collect()"
   ]
  },
  {
   "cell_type": "code",
   "execution_count": 4,
   "metadata": {},
   "outputs": [
    {
     "data": {
      "text/plain": [
       "[('c', (3, 3)), ('a', (1, 1)), ('a', (1, 2)), ('a', (2, 1)), ('a', (2, 2))]"
      ]
     },
     "execution_count": 4,
     "metadata": {},
     "output_type": "execute_result"
    }
   ],
   "source": [
    "y.join(y).collect()"
   ]
  },
  {
   "cell_type": "code",
   "execution_count": 5,
   "metadata": {},
   "outputs": [
    {
     "data": {
      "text/plain": [
       "[('c', (3, 7)), ('a', (1, 5)), ('a', (2, 5))]"
      ]
     },
     "execution_count": 5,
     "metadata": {},
     "output_type": "execute_result"
    }
   ],
   "source": [
    "y.leftOuterJoin(x).collect()"
   ]
  },
  {
   "cell_type": "code",
   "execution_count": 6,
   "metadata": {},
   "outputs": [
    {
     "data": {
      "text/plain": [
       "[('b', (6, None)),\n",
       " ('c', (7, 3)),\n",
       " ('d', (8, None)),\n",
       " ('a', (5, 1)),\n",
       " ('a', (5, 2))]"
      ]
     },
     "execution_count": 6,
     "metadata": {},
     "output_type": "execute_result"
    }
   ],
   "source": [
    "x.leftOuterJoin(y).collect()"
   ]
  },
  {
   "cell_type": "code",
   "execution_count": 7,
   "metadata": {},
   "outputs": [
    {
     "data": {
      "text/plain": [
       "[('c', (3, 7)),\n",
       " ('b', (None, 6)),\n",
       " ('d', (None, 8)),\n",
       " ('a', (1, 5)),\n",
       " ('a', (2, 5))]"
      ]
     },
     "execution_count": 7,
     "metadata": {},
     "output_type": "execute_result"
    }
   ],
   "source": [
    "y.rightOuterJoin(x).collect()"
   ]
  },
  {
   "cell_type": "markdown",
   "metadata": {},
   "source": [
    "<img src=\"https://d1jnx9ba8s6j9r.cloudfront.net/blog/wp-content/uploads/2018/10/PySpark_CheatSheet-1.png\"  />"
   ]
  }
 ],
 "metadata": {
  "kernelspec": {
   "display_name": "Python 3",
   "language": "python",
   "name": "python3"
  },
  "language_info": {
   "codemirror_mode": {
    "name": "ipython",
    "version": 3
   },
   "file_extension": ".py",
   "mimetype": "text/x-python",
   "name": "python",
   "nbconvert_exporter": "python",
   "pygments_lexer": "ipython3",
   "version": "3.7.1"
  }
 },
 "nbformat": 4,
 "nbformat_minor": 2
}
