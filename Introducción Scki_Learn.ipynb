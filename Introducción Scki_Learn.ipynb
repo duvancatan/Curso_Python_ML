{
 "cells": [
  {
   "cell_type": "markdown",
   "metadata": {},
   "source": [
    "<img src=\"https://files.realpython.com/media/Logistic-Regression-in-Python_Watermarked.e647b992ee71.jpg\"/>"
   ]
  },
  {
   "cell_type": "markdown",
   "metadata": {},
   "source": [
    "Scikit-learn es probablemente la librería más útil para Machine Learning en Python, es de código abierto y es reutilizable en varios contextos, fomentando el uso académico y comercial. Proporciona una gama de algoritmos de aprendizaje supervisados y no supervisados en Python.\n",
    "\n",
    "Este librería está construida sobre SciPy (Scientific Python) e incluye las siguientes librerías o paquetes:"
   ]
  },
  {
   "cell_type": "markdown",
   "metadata": {},
   "source": [
    "<img src=\"https://i0.wp.com/live.staticflickr.com/65535/48057247952_f9e106cb4a_c.jpg?resize=800%2C542&ssl=1\"/>"
   ]
  },
  {
   "cell_type": "markdown",
   "metadata": {},
   "source": [
    "> **NumPy**: librería de matriz n-dimensional base\n",
    "                   \n",
    " <img width=\"450\" height=\"550\" src=\"https://files.realpython.com/media/How-to-Use-np.arange_Watermarked.90510080b8f3.jpg\" />"
   ]
  },
  {
   "cell_type": "markdown",
   "metadata": {},
   "source": [
    "**Pandas**: estructura de datos y análisis\n",
    "                   \n",
    " <img width=\"450\" height=\"550\" src=\"https://files.realpython.com/media/Merging-Joining-and-Concatenating-in-Pandas_Watermarked_1.e45698a508a4.jpg\" />"
   ]
  },
  {
   "cell_type": "markdown",
   "metadata": {},
   "source": [
    "**SciPy:** librería fundamental para la informática científica\n",
    "                   \n",
    " <img width=\"450\" height=\"550\" src=\"https://files.realpython.com/media/Correlation-in-NumPy-and-Correlation-in-Pandas_Watermarked.69b8c063482f.jpg\" />"
   ]
  },
  {
   "cell_type": "markdown",
   "metadata": {},
   "source": [
    "**Matplotlib:** Gráficos\n",
    "                   \n",
    " <img width=\"450\" height=\"550\" src=\"https://files.realpython.com/media/Python_Plotting_With_Matplotlib_Watermark.610acdacc476.jpg\" />"
   ]
  },
  {
   "cell_type": "markdown",
   "metadata": {},
   "source": [
    "**Ipython:** consola interactiva mejorada\n",
    "                   \n",
    " <img width=\"450\" height=\"550\" src=\"https://files.realpython.com/media/Publish-Manually-and-Delete-Emacs--The-Best-Python-Editor_Watermarked.8811bb500ce2.jpg\" />"
   ]
  },
  {
   "cell_type": "markdown",
   "metadata": {},
   "source": [
    "**SymPy:** matemática simbólica\n",
    "                       \n",
    " <img width=\"450\" height=\"550\" src=\"https://pbs.twimg.com/media/CU6AYq2UEAASekM.png\" />"
   ]
  },
  {
   "cell_type": "markdown",
   "metadata": {},
   "source": [
    "> Para implementar scikit-learn, primero se debe importar los paquetes anteriores, para poderlos implementar en la programación. "
   ]
  },
  {
   "cell_type": "markdown",
   "metadata": {},
   "source": [
    "## Componentes de scikit-learn\n",
    "La librería de scikit-learn viene cargado con muchas funciones, a continuación se explican algunas de ellas:"
   ]
  },
  {
   "cell_type": "markdown",
   "metadata": {},
   "source": [
    "### Algoritmos de aprendizaje supervisados\n",
    "\n",
    "La gran mayoría de los algoritmos de Machine Learning que entran en la clasificación de aprendizaje supervisado forman parte de scikit-learn, desde los modelos lineales generalizados, como lo es **regresión lineal**, como las **máquina de vectores de soporte (SVM)**, **árboles de decisión** y hasta los métodos bayesianos, todos ellos son parte de las herramientas de scikit-learn.\n",
    "\n",
    " <img width=\"550\" height=\"650\" src=\"https://analyticssteps.com/backend/media/thumbnail/5747558/6365601_1579074149_306165_1568719437_BannerSuperwised&UnSuperwised.jpg\" />"
   ]
  },
  {
   "cell_type": "markdown",
   "metadata": {},
   "source": [
    "## Validación cruzada\n",
    "Existen varios métodos para verificar la precisión de los modelos supervisados y esta librería cuenta con las instrucciones necesarios para poder implementar estos métodos sin tanto esfuerzo.\n",
    "\n",
    "<img width=\"550\" height=\"650\" src=\"https://relopezbriega.github.io/images/validacion_cruzada.png\" />"
   ]
  },
  {
   "cell_type": "markdown",
   "metadata": {},
   "source": [
    "## Algoritmos de aprendizaje no supervisados\n",
    "\n",
    "Igual que los algoritmos de aprendizaje supervisados, esta librería cuenta con una gran variedad de algoritmos disponibles para aprendizaje no supervisado, comenzando por la **agrupación, el análisis factorial, el análisis de componentes principales y las redes neuronales no supervisadas**."
   ]
  },
  {
   "cell_type": "markdown",
   "metadata": {},
   "source": [
    "<img width=\"550\" height=\"650\" src=\"https://miro.medium.com/max/2246/1*lhkCOodCMZ0-SSziEDpwpA.png\" />"
   ]
  },
  {
   "cell_type": "markdown",
   "metadata": {},
   "source": [
    "## Varios conjuntos de datos o dataset\n",
    "Este librería pone a disposición varios dataset que son muy útil para que puedas practicar tus conocimientos de Machine Learning con Python, implementando esta librería. "
   ]
  },
  {
   "cell_type": "markdown",
   "metadata": {},
   "source": [
    "## Extracción y selección de características\n",
    "Esta librería es muy útil para extraer características de imágenes y texto, así como también para identificar atributos significativos a partir de los cuales crear modelos supervisados."
   ]
  },
  {
   "cell_type": "markdown",
   "metadata": {},
   "source": [
    "## Comunidad\n",
    "Una de las principales razones detrás del uso de herramientas de código abierto es la gran comunidad que tiene, lo mismo sucede para scikit-learn. "
   ]
  }
 ],
 "metadata": {
  "kernelspec": {
   "display_name": "Python 3",
   "language": "python",
   "name": "python3"
  },
  "language_info": {
   "codemirror_mode": {
    "name": "ipython",
    "version": 3
   },
   "file_extension": ".py",
   "mimetype": "text/x-python",
   "name": "python",
   "nbconvert_exporter": "python",
   "pygments_lexer": "ipython3",
   "version": "3.7.1"
  }
 },
 "nbformat": 4,
 "nbformat_minor": 2
}
